{
  "nbformat": 4,
  "nbformat_minor": 0,
  "metadata": {
    "colab": {
      "provenance": []
    },
    "kernelspec": {
      "name": "python3",
      "display_name": "Python 3"
    }
  },
  "cells": [
    {
      "cell_type": "markdown",
      "source": [
        "### Initialize"
      ],
      "metadata": {
        "id": "_iVsWd1M7VIS"
      }
    },
    {
      "cell_type": "code",
      "source": [
        "import ee\n",
        "\n",
        "# Trigger the authentication flow.\n",
        "ee.Authenticate()\n",
        "\n",
        "# Initialize the library.\n",
        "ee.Initialize(project='CHANGEME')"
      ],
      "metadata": {
        "id": "yJoUC6vZ6Rar"
      },
      "execution_count": 2,
      "outputs": []
    },
    {
      "cell_type": "markdown",
      "source": [
        "### Generate TIF"
      ],
      "metadata": {
        "id": "zZbxMUaJEk0o"
      }
    },
    {
      "cell_type": "code",
      "source": [
        "# Function to process a single point\n",
        "def process_point(lon, lat, city, year, filename):\n",
        "    # Define the center point\n",
        "    center = ee.Geometry.Point([lon, lat])\n",
        "\n",
        "    # Define the bounding box with a buffer radius (2560 meters for 512x512 pixels at 10m resolution)\n",
        "    geometry = center.buffer(2560).bounds()\n",
        "\n",
        "    # Load Sentinel-2 MSI Level-2A as ImageCollection\n",
        "    sentinel2 = (ee.ImageCollection(\"COPERNICUS/S2_SR_HARMONIZED\")\n",
        "                 .filterBounds(geometry)\n",
        "                 .filterDate(f'{year}-08-01', f'{year}-08-30')\n",
        "                 .filter(ee.Filter.lt('CLOUDY_PIXEL_PERCENTAGE', 10))\n",
        "                 .median())\n",
        "\n",
        "    # Calculate NDVI\n",
        "    ndvi = sentinel2.normalizedDifference(['B8', 'B4']).rename('NDVI')\n",
        "\n",
        "    # Classify NDVI into three categories\n",
        "    ndvi_classified = ndvi.expression(\n",
        "        \"(ndvi < 0.4) ? 1 : (ndvi <= 0.7) ? 2 : 3\",\n",
        "        {'ndvi': ndvi}\n",
        "    ).rename('NDVI_Classified')\n",
        "\n",
        "    # Visualization parameters for the classified NDVI\n",
        "    ndvi_class_vis = {\n",
        "        'min': 1,\n",
        "        'max': 3,\n",
        "        'palette': ['white', 'lightgreen', 'darkgreen']  # Assign colors to each class\n",
        "    }\n",
        "\n",
        "    # Enhance each band by a different factor\n",
        "    enhanced_rgb = (sentinel2.select(['B4', 'B3', 'B2']).multiply(2.0))\n",
        "\n",
        "    viz_params = {\n",
        "        'bands': ['B4', 'B3', 'B2'],\n",
        "        'min': 0,\n",
        "        'max': 3000,\n",
        "        'gamma': 1\n",
        "    }\n",
        "\n",
        "    # Export EnhancedRGB Layer to Google Drive\n",
        "    enhanced_rgb_task = ee.batch.Export.image.toDrive(\n",
        "        image=enhanced_rgb.clip(geometry).visualize(**viz_params),\n",
        "        description=f'EnhancedRGB_{filename}',\n",
        "        folder=year,\n",
        "        fileNamePrefix=filename,\n",
        "        region=geometry,\n",
        "        fileFormat='GEOTIFF',\n",
        "        crs='EPSG:3857',\n",
        "        dimensions='512x512'\n",
        "    )\n",
        "    enhanced_rgb_task.start()\n",
        "\n",
        "    # Export the classified NDVI as a single-band image\n",
        "    ndvi_classified_task = ee.batch.Export.image.toDrive(\n",
        "        image=ndvi_classified.clip(geometry),\n",
        "        description=f'NDVI_Classified_{filename}',\n",
        "        folder=year,\n",
        "        fileNamePrefix=f'm_{filename}',\n",
        "        region=geometry,\n",
        "        fileFormat='GEOTIFF',\n",
        "        crs='EPSG:3857',\n",
        "        dimensions='512x512'\n",
        "    )\n",
        "    ndvi_classified_task.start()\n",
        "\n",
        "    print(f\"Tasks started for {city} at ({lon}, {lat}).\")\n"
      ],
      "metadata": {
        "id": "Nuh4CY7-BHS2"
      },
      "execution_count": 72,
      "outputs": []
    },
    {
      "cell_type": "markdown",
      "source": [
        "### Data"
      ],
      "metadata": {
        "id": "vyvVJc9XGBKm"
      }
    },
    {
      "cell_type": "code",
      "source": [
        "import io\n",
        "import pandas as pd\n",
        "data = pd.read_csv(io.StringIO('''\n",
        "Sacramento,2019,2024,\"-121.387740466012,38.6049281216723\",38.60492812,-121.3877405,\"-121.387740466012,38.6549281216723\",\"-121.337740466012,38.6549281216723\",\"-121.337740466012,38.6049281216723\",\"-121.337740466012,38.5549281216723\",\"-121.387740466012,38.5549281216723\",\"-121.437740466012,38.5549281216723\",\"-121.437740466012,38.6049281216723\",\"-121.437740466012,38.6549281216723\"\n",
        "SanFrancisco,2019,2024,\"-121.76414419757,37.8162582620558\",37.81625826,-121.7641442,\"-121.76414419757,37.8662582620558\",\"-121.71414419757,37.8662582620558\",\"-121.71414419757,37.8162582620558\",\"-121.71414419757,37.7662582620558\",\"-121.76414419757,37.7662582620558\",\"-121.81414419757,37.7662582620558\",\"-121.81414419757,37.8162582620558\",\"-121.81414419757,37.8662582620558\"\n",
        "Fresno,2019,2024,\"-119.417894258498,36.7078861066282\",36.70788611,-119.4178943,\"-119.417894258498,36.7578861066282\",\"-119.367894258498,36.7578861066282\",\"-119.367894258498,36.7078861066282\",\"-119.367894258498,36.6578861066282\",\"-119.417894258498,36.6578861066282\",\"-119.467894258498,36.6578861066282\",\"-119.467894258498,36.7078861066282\",\"-119.467894258498,36.7578861066282\"\n",
        "Bakersfield,2019,2024,\"-118.439244556448,35.3789556757796\",35.37895568,-118.4392446,\"-118.439244556448,35.4289556757796\",\"-118.389244556448,35.4289556757796\",\"-118.389244556448,35.3789556757796\",\"-118.389244556448,35.3289556757796\",\"-118.439244556448,35.3289556757796\",\"-118.489244556448,35.3289556757796\",\"-118.489244556448,35.3789556757796\",\"-118.489244556448,35.4289556757796\"\n",
        "'''), header=None)\n"
      ],
      "metadata": {
        "id": "_T9KUm8FJdKv"
      },
      "execution_count": 73,
      "outputs": []
    },
    {
      "cell_type": "markdown",
      "source": [
        "### RUN"
      ],
      "metadata": {
        "id": "JO8a-E6GQpOS"
      }
    },
    {
      "cell_type": "code",
      "source": [
        "coord_list = [3, 6, 7, 8, 9, 10, 11, 12, 13]\n",
        "coord_name = ['C', 'N', 'NE', 'E', 'SE', 'S', 'SW', 'W', 'NW']\n",
        "\n",
        "# Process each city\n",
        "for j in range(3):\n",
        "  cityData = data.iloc[j]\n",
        "  city = cityData[0]\n",
        "  print(city)\n",
        "  for i in range(9):\n",
        "      coord = cityData.iloc[coord_list[i]].split(',')\n",
        "      filename = f'{city}_{coord_name[i]}'\n",
        "      # print(filename)\n",
        "\n",
        "      lon = float(coord[0])\n",
        "      lat = float(coord[1])\n",
        "      # print(lon, lat)\n",
        "      process_point(lon, lat, city, '2019', filename)\n",
        "      process_point(lon, lat, city, '2024', filename)\n",
        "\n",
        "\n",
        "print(\"All tasks have been started.\")"
      ],
      "metadata": {
        "colab": {
          "base_uri": "https://localhost:8080/"
        },
        "id": "bCaj8N-DKj4c",
        "outputId": "41c9c485-2424-4d2b-83ac-ec4a40b0acab"
      },
      "execution_count": 75,
      "outputs": [
        {
          "output_type": "stream",
          "name": "stdout",
          "text": [
            "Sacramento\n",
            "Tasks started for Sacramento at (-121.387740466012, 38.6049281216723).\n",
            "Tasks started for Sacramento at (-121.387740466012, 38.6049281216723).\n",
            "Tasks started for Sacramento at (-121.387740466012, 38.6549281216723).\n",
            "Tasks started for Sacramento at (-121.387740466012, 38.6549281216723).\n",
            "Tasks started for Sacramento at (-121.337740466012, 38.6549281216723).\n",
            "Tasks started for Sacramento at (-121.337740466012, 38.6549281216723).\n",
            "Tasks started for Sacramento at (-121.337740466012, 38.6049281216723).\n",
            "Tasks started for Sacramento at (-121.337740466012, 38.6049281216723).\n",
            "Tasks started for Sacramento at (-121.337740466012, 38.5549281216723).\n",
            "Tasks started for Sacramento at (-121.337740466012, 38.5549281216723).\n",
            "Tasks started for Sacramento at (-121.387740466012, 38.5549281216723).\n",
            "Tasks started for Sacramento at (-121.387740466012, 38.5549281216723).\n",
            "Tasks started for Sacramento at (-121.437740466012, 38.5549281216723).\n",
            "Tasks started for Sacramento at (-121.437740466012, 38.5549281216723).\n",
            "Tasks started for Sacramento at (-121.437740466012, 38.6049281216723).\n",
            "Tasks started for Sacramento at (-121.437740466012, 38.6049281216723).\n",
            "Tasks started for Sacramento at (-121.437740466012, 38.6549281216723).\n",
            "Tasks started for Sacramento at (-121.437740466012, 38.6549281216723).\n",
            "SanFrancisco\n",
            "Tasks started for SanFrancisco at (-121.76414419757, 37.8162582620558).\n",
            "Tasks started for SanFrancisco at (-121.76414419757, 37.8162582620558).\n",
            "Tasks started for SanFrancisco at (-121.76414419757, 37.8662582620558).\n",
            "Tasks started for SanFrancisco at (-121.76414419757, 37.8662582620558).\n",
            "Tasks started for SanFrancisco at (-121.71414419757, 37.8662582620558).\n",
            "Tasks started for SanFrancisco at (-121.71414419757, 37.8662582620558).\n",
            "Tasks started for SanFrancisco at (-121.71414419757, 37.8162582620558).\n",
            "Tasks started for SanFrancisco at (-121.71414419757, 37.8162582620558).\n",
            "Tasks started for SanFrancisco at (-121.71414419757, 37.7662582620558).\n",
            "Tasks started for SanFrancisco at (-121.71414419757, 37.7662582620558).\n",
            "Tasks started for SanFrancisco at (-121.76414419757, 37.7662582620558).\n",
            "Tasks started for SanFrancisco at (-121.76414419757, 37.7662582620558).\n",
            "Tasks started for SanFrancisco at (-121.81414419757, 37.7662582620558).\n",
            "Tasks started for SanFrancisco at (-121.81414419757, 37.7662582620558).\n",
            "Tasks started for SanFrancisco at (-121.81414419757, 37.8162582620558).\n",
            "Tasks started for SanFrancisco at (-121.81414419757, 37.8162582620558).\n",
            "Tasks started for SanFrancisco at (-121.81414419757, 37.8662582620558).\n",
            "Tasks started for SanFrancisco at (-121.81414419757, 37.8662582620558).\n",
            "Fresno\n",
            "Tasks started for Fresno at (-119.417894258498, 36.7078861066282).\n",
            "Tasks started for Fresno at (-119.417894258498, 36.7078861066282).\n",
            "Tasks started for Fresno at (-119.417894258498, 36.7578861066282).\n",
            "Tasks started for Fresno at (-119.417894258498, 36.7578861066282).\n",
            "Tasks started for Fresno at (-119.367894258498, 36.7578861066282).\n",
            "Tasks started for Fresno at (-119.367894258498, 36.7578861066282).\n",
            "Tasks started for Fresno at (-119.367894258498, 36.7078861066282).\n",
            "Tasks started for Fresno at (-119.367894258498, 36.7078861066282).\n",
            "Tasks started for Fresno at (-119.367894258498, 36.6578861066282).\n",
            "Tasks started for Fresno at (-119.367894258498, 36.6578861066282).\n",
            "Tasks started for Fresno at (-119.417894258498, 36.6578861066282).\n",
            "Tasks started for Fresno at (-119.417894258498, 36.6578861066282).\n",
            "Tasks started for Fresno at (-119.467894258498, 36.6578861066282).\n",
            "Tasks started for Fresno at (-119.467894258498, 36.6578861066282).\n",
            "Tasks started for Fresno at (-119.467894258498, 36.7078861066282).\n",
            "Tasks started for Fresno at (-119.467894258498, 36.7078861066282).\n",
            "Tasks started for Fresno at (-119.467894258498, 36.7578861066282).\n",
            "Tasks started for Fresno at (-119.467894258498, 36.7578861066282).\n",
            "All tasks have been started.\n"
          ]
        }
      ]
    },
    {
      "cell_type": "markdown",
      "source": [
        "### The Code Not Taken"
      ],
      "metadata": {
        "id": "dK1V81GYOIVc"
      }
    },
    {
      "cell_type": "markdown",
      "source": [
        "#### Single City"
      ],
      "metadata": {
        "id": "WdkJKFWqRENy"
      }
    },
    {
      "cell_type": "code",
      "source": [
        "import io\n",
        "import pandas as pd\n",
        "data = pd.read_csv(io.StringIO('''\n",
        "SanJose,2019,2024,\"-121.899180305122,37.3391025913052\",37.33910259,-121.8991803,\"-121.899180305122,37.3891025913052\",\"-121.849180305122,37.3891025913052\",\"-121.849180305122,37.3391025913052\",\"-121.849180305122,37.2891025913052\",\"-121.899180305122,37.2891025913052\",\"-121.949180305122,37.2891025913052\",\"-121.949180305122,37.3391025913052\",\"-121.949180305122,37.3891025913052\"\n",
        "'''), header=None)\n"
      ],
      "metadata": {
        "id": "EvvKWm1hPG_c"
      },
      "execution_count": 68,
      "outputs": []
    },
    {
      "cell_type": "code",
      "source": [
        "coord_list = [3, 6, 7, 8, 9, 10, 11, 12, 13]\n",
        "coord_name = ['C', 'N', 'NE', 'E', 'SE', 'S', 'SW', 'W', 'NW']\n",
        "city='SanJose'\n",
        "# Process each point\n",
        "for i in range(9):\n",
        "    coord = data.iloc[0, coord_list[i]].split(',')\n",
        "    filename = f'{city}_{coord_name[i]}'\n",
        "    lon = float(coord[0])\n",
        "    lat = float(coord[1])\n",
        "\n",
        "    print(filename)\n",
        "    print(lon, lat)\n",
        "    process_point(lon, lat, city, '2019', filename)\n",
        "\n",
        "print(\"All tasks have been started.\")\n"
      ],
      "metadata": {
        "colab": {
          "base_uri": "https://localhost:8080/"
        },
        "id": "IHejCVzrBdhZ",
        "outputId": "a7745e3d-5fff-4c5b-dda7-82a8a0ad0068"
      },
      "execution_count": 71,
      "outputs": [
        {
          "output_type": "stream",
          "name": "stdout",
          "text": [
            "SanJose_C\n",
            "-121.899180305122 37.3391025913052\n",
            "Tasks started for SanJose at (-121.899180305122, 37.3391025913052).\n",
            "SanJose_N\n",
            "-121.899180305122 37.3891025913052\n",
            "Tasks started for SanJose at (-121.899180305122, 37.3891025913052).\n",
            "SanJose_NE\n",
            "-121.849180305122 37.3891025913052\n",
            "Tasks started for SanJose at (-121.849180305122, 37.3891025913052).\n",
            "SanJose_E\n",
            "-121.849180305122 37.3391025913052\n",
            "Tasks started for SanJose at (-121.849180305122, 37.3391025913052).\n",
            "SanJose_SE\n",
            "-121.849180305122 37.2891025913052\n",
            "Tasks started for SanJose at (-121.849180305122, 37.2891025913052).\n",
            "SanJose_S\n",
            "-121.899180305122 37.2891025913052\n",
            "Tasks started for SanJose at (-121.899180305122, 37.2891025913052).\n",
            "SanJose_SW\n",
            "-121.949180305122 37.2891025913052\n",
            "Tasks started for SanJose at (-121.949180305122, 37.2891025913052).\n",
            "SanJose_W\n",
            "-121.949180305122 37.3391025913052\n",
            "Tasks started for SanJose at (-121.949180305122, 37.3391025913052).\n",
            "SanJose_NW\n",
            "-121.949180305122 37.3891025913052\n",
            "Tasks started for SanJose at (-121.949180305122, 37.3891025913052).\n",
            "All tasks have been started.\n"
          ]
        }
      ]
    },
    {
      "cell_type": "code",
      "source": [],
      "metadata": {
        "id": "Q9Sl1sYgPVV1"
      },
      "execution_count": null,
      "outputs": []
    }
  ]
}