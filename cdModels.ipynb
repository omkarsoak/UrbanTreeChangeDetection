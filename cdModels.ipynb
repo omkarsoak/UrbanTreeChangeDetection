{
 "cells": [
  {
   "cell_type": "markdown",
   "metadata": {},
   "source": [
    "Preprocess"
   ]
  },
  {
   "cell_type": "code",
   "execution_count": 1,
   "metadata": {},
   "outputs": [
    {
     "name": "stderr",
     "output_type": "stream",
     "text": [
      "c:\\Users\\RUJUTA\\AppData\\Local\\Programs\\Python\\Python312\\Lib\\site-packages\\tqdm\\auto.py:21: TqdmWarning: IProgress not found. Please update jupyter and ipywidgets. See https://ipywidgets.readthedocs.io/en/stable/user_install.html\n",
      "  from .autonotebook import tqdm as notebook_tqdm\n"
     ]
    }
   ],
   "source": [
    "import os\n",
    "import torch\n",
    "import numpy as np\n",
    "from torch.utils.data import Dataset, DataLoader\n",
    "from torch import nn, optim\n",
    "import segmentation_models_pytorch as smp\n",
    "from torchvision import transforms\n",
    "from tqdm import tqdm\n",
    "from PIL import Image"
   ]
  },
  {
   "cell_type": "code",
   "execution_count": 2,
   "metadata": {},
   "outputs": [],
   "source": [
    "#Dataloader for Change Detection\n",
    "class ChangeDetectionDataset(Dataset):\n",
    "    def __init__(self, t2019_dir, t2024_dir, mask_dir, classes, transform=None):\n",
    "        self.t2019_dir = t2019_dir\n",
    "        self.t2024_dir = t2024_dir\n",
    "        self.mask_dir = mask_dir\n",
    "        self.classes = classes\n",
    "        self.transform = transform\n",
    "        self.t2019_paths = sorted([f for f in os.listdir(t2019_dir) if f.endswith('.tif')])\n",
    "        self.t2024_paths = sorted([f for f in os.listdir(t2024_dir) if f.endswith('.tif')])\n",
    "        self.mask_paths = sorted([f for f in os.listdir(mask_dir) if f.endswith('.tif')])\n",
    "\n",
    "    def __len__(self):\n",
    "        return len(self.t2019_paths)\n",
    "\n",
    "    def __getitem__(self, index):\n",
    "        img_t2019 = np.array(Image.open(os.path.join(self.t2019_dir, self.t2019_paths[index])), dtype=np.float32) / 255.0\n",
    "        img_t2024 = np.array(Image.open(os.path.join(self.t2024_dir, self.t2024_paths[index])), dtype=np.float32) / 255.0\n",
    "        mask = np.array(Image.open(os.path.join(self.mask_dir, self.mask_paths[index])), dtype=np.int64)\n",
    "\n",
    "        # Stack time series images for model input\n",
    "        image = np.concatenate([img_t2019, img_t2024], axis=-1)\n",
    "\n",
    "        if self.transform:\n",
    "            augmented = self.transform(image=image, mask=mask)\n",
    "            image, mask = augmented['image'], augmented['mask']\n",
    "\n",
    "        image = torch.from_numpy(image).permute(2, 0, 1)\n",
    "        mask = torch.from_numpy(mask)\n",
    "\n",
    "        return image, mask\n"
   ]
  },
  {
   "cell_type": "code",
   "execution_count": 5,
   "metadata": {},
   "outputs": [],
   "source": [
    "# Define class labels\n",
    "CLASSES = ['no_change', 'increase_vegetation', 'decrease_vegetation']\n",
    "\n",
    "# DataLoader Setup\n",
    "train_dataset = ChangeDetectionDataset(\n",
    "    t2019_dir=\"CDTest/Train/Images/T2019\",\n",
    "    t2024_dir=\"CDTest/Train/Images/T2024\",\n",
    "    mask_dir=\"CDTest/Train/cd2_Output\",\n",
    "    classes=CLASSES\n",
    ")\n",
    "\n",
    "val_dataset = ChangeDetectionDataset(\n",
    "    t2019_dir=\"CDTest/Val/Images/T2019\",\n",
    "    t2024_dir=\"CDTest/Val/Images/T2024\",\n",
    "    mask_dir=\"CDTest/Val/cd2_Output\",\n",
    "    classes=CLASSES\n",
    ")\n",
    "\n",
    "# Create DataLoader instances\n",
    "train_loader = DataLoader(train_dataset, batch_size=32,shuffle=True)\n",
    "val_loader = DataLoader(val_dataset, batch_size=32,shuffle=False)\n"
   ]
  },
  {
   "cell_type": "code",
   "execution_count": 6,
   "metadata": {},
   "outputs": [
    {
     "name": "stdout",
     "output_type": "stream",
     "text": [
      "------------train------------\n",
      "batch size:  32\n",
      "shape:  torch.Size([6, 512, 512]) torch.Size([512, 512])\n",
      "[0 1 2]\n",
      "number of images:  9\n",
      "classes:  ['no_change', 'increase_vegetation', 'decrease_vegetation']\n",
      "------------val------------\n",
      "batch size:  32\n",
      "shape:  torch.Size([6, 512, 512]) torch.Size([512, 512])\n",
      "[0 1 2]\n",
      "number of images:  2\n",
      "classes:  ['no_change', 'increase_vegetation', 'decrease_vegetation']\n"
     ]
    }
   ],
   "source": [
    "def describe_loader(loader_type):\n",
    "    print(\"batch size: \",loader_type.batch_size)\n",
    "    print(\"shape: \", loader_type.dataset[0][0].shape, loader_type.dataset[0][1].shape)\n",
    "    print(np.unique(loader_type.dataset[0][1]))\n",
    "    print(\"number of images: \", len(loader_type.dataset))\n",
    "    print(\"classes: \", loader_type.dataset.classes)\n",
    "\n",
    "print(\"------------train------------\")\n",
    "describe_loader(train_loader)\n",
    "print(\"------------val------------\")\n",
    "describe_loader(val_loader)"
   ]
  },
  {
   "cell_type": "markdown",
   "metadata": {},
   "source": [
    "Model"
   ]
  },
  {
   "cell_type": "code",
   "execution_count": 10,
   "metadata": {},
   "outputs": [],
   "source": [
    "# Model Setup\n",
    "device = torch.device(\"cuda\" if torch.cuda.is_available() else \"cpu\")\n",
    "model = smp.DeepLabV3Plus(\n",
    "    encoder_name=\"resnet18\",\n",
    "    encoder_weights=\"imagenet\",\n",
    "    classes=3,\n",
    "    activation=None,\n",
    "    in_channels=6  # Stacked images for T2019 and T2024\n",
    ")\n",
    "model.to(device)\n",
    "\n",
    "# Hyperparameters\n",
    "epochs = 2\n",
    "lr = 1e-4\n",
    "batch_size = 8\n",
    "num_classes = 3\n",
    "\n",
    "# Loss and Optimizer\n",
    "loss_fn = nn.CrossEntropyLoss()\n",
    "optimizer = optim.Adam(model.parameters(), lr=lr)"
   ]
  },
  {
   "cell_type": "code",
   "execution_count": 11,
   "metadata": {},
   "outputs": [
    {
     "name": "stderr",
     "output_type": "stream",
     "text": [
      "Epoch 1/2 [Training]: 100%|██████████| 1/1 [00:45<00:00, 45.79s/it]\n"
     ]
    },
    {
     "name": "stdout",
     "output_type": "stream",
     "text": [
      "Epoch 1, Train Loss: 0.9032\n"
     ]
    },
    {
     "name": "stderr",
     "output_type": "stream",
     "text": [
      "Epoch 1/2 [Validation]: 100%|██████████| 1/1 [00:03<00:00,  3.72s/it]\n"
     ]
    },
    {
     "name": "stdout",
     "output_type": "stream",
     "text": [
      "Epoch 1, Validation Loss: 1.1420\n"
     ]
    },
    {
     "name": "stderr",
     "output_type": "stream",
     "text": [
      "Epoch 2/2 [Training]: 100%|██████████| 1/1 [00:39<00:00, 39.21s/it]\n"
     ]
    },
    {
     "name": "stdout",
     "output_type": "stream",
     "text": [
      "Epoch 2, Train Loss: 0.8823\n"
     ]
    },
    {
     "name": "stderr",
     "output_type": "stream",
     "text": [
      "Epoch 2/2 [Validation]: 100%|██████████| 1/1 [00:02<00:00,  2.73s/it]"
     ]
    },
    {
     "name": "stdout",
     "output_type": "stream",
     "text": [
      "Epoch 2, Validation Loss: 1.1354\n"
     ]
    },
    {
     "name": "stderr",
     "output_type": "stream",
     "text": [
      "\n"
     ]
    }
   ],
   "source": [
    "# Training Loop\n",
    "for epoch in range(epochs):\n",
    "    model.train()\n",
    "    train_loss = 0\n",
    "\n",
    "    for images, masks in tqdm(train_loader, desc=f\"Epoch {epoch+1}/{epochs} [Training]\"):\n",
    "        images, masks = images.to(device), masks.to(device)\n",
    "\n",
    "        outputs = model(images)\n",
    "        loss = loss_fn(outputs, masks.long())\n",
    "        train_loss += loss.item()\n",
    "\n",
    "        optimizer.zero_grad()\n",
    "        loss.backward()\n",
    "        optimizer.step()\n",
    "\n",
    "    train_loss /= len(train_loader)\n",
    "    print(f\"Epoch {epoch+1}, Train Loss: {train_loss:.4f}\")\n",
    "\n",
    "    # Validation Loop\n",
    "    model.eval()\n",
    "    val_loss = 0\n",
    "\n",
    "    with torch.no_grad():\n",
    "        for images, masks in tqdm(val_loader, desc=f\"Epoch {epoch+1}/{epochs} [Validation]\"):\n",
    "            images, masks = images.to(device), masks.to(device)\n",
    "\n",
    "            outputs = model(images)\n",
    "            loss = loss_fn(outputs, masks.long())\n",
    "            val_loss += loss.item()\n",
    "\n",
    "    val_loss /= len(val_loader)\n",
    "    print(f\"Epoch {epoch+1}, Validation Loss: {val_loss:.4f}\")\n"
   ]
  },
  {
   "cell_type": "code",
   "execution_count": null,
   "metadata": {},
   "outputs": [],
   "source": [
    "# Save Model\n",
    "torch.save(model.state_dict(), \"change_detection_model.pth\")\n",
    "print(\"Model saved.\")"
   ]
  },
  {
   "cell_type": "markdown",
   "metadata": {},
   "source": [
    "Test"
   ]
  },
  {
   "cell_type": "markdown",
   "metadata": {},
   "source": [
    "Display"
   ]
  }
 ],
 "metadata": {
  "kernelspec": {
   "display_name": "Python 3",
   "language": "python",
   "name": "python3"
  },
  "language_info": {
   "codemirror_mode": {
    "name": "ipython",
    "version": 3
   },
   "file_extension": ".py",
   "mimetype": "text/x-python",
   "name": "python",
   "nbconvert_exporter": "python",
   "pygments_lexer": "ipython3",
   "version": "3.12.2"
  }
 },
 "nbformat": 4,
 "nbformat_minor": 2
}
