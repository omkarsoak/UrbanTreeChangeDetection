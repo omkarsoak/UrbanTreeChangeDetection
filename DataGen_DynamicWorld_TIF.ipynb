{
  "cells": [
    {
      "cell_type": "markdown",
      "metadata": {
        "id": "_iVsWd1M7VIS"
      },
      "source": [
        "### Initialize"
      ]
    },
    {
      "cell_type": "code",
      "execution_count": null,
      "metadata": {
        "id": "yJoUC6vZ6Rar"
      },
      "outputs": [],
      "source": [
        "import ee\n",
        "\n",
        "# Trigger the authentication flow.\n",
        "ee.Authenticate()\n",
        "\n",
        "# Initialize the library.\n",
        "ee.Initialize(project='omkarsoak-ee')"
      ]
    },
    {
      "cell_type": "code",
      "execution_count": null,
      "metadata": {
        "colab": {
          "base_uri": "https://localhost:8080/"
        },
        "id": "subg3GrxdHOx",
        "outputId": "abf4d3e3-486b-4b7a-f866-99f343cbbf66"
      },
      "outputs": [
        {
          "name": "stdout",
          "output_type": "stream",
          "text": [
            "Mounted at /content/drive\n"
          ]
        }
      ],
      "source": [
        "from google.colab import drive\n",
        "drive.mount('/content/drive')"
      ]
    },
    {
      "cell_type": "markdown",
      "metadata": {
        "id": "nrB0kAESB0ik"
      },
      "source": [
        "## PROCESS GEE"
      ]
    },
    {
      "cell_type": "code",
      "execution_count": null,
      "metadata": {
        "id": "cm2SusVfIXeW"
      },
      "outputs": [],
      "source": [
        "def export_change_detection_data(lon, lat, city, state, filename):\n",
        "    # Define study area based on coordinates with hardcoded buffer size\n",
        "    center = ee.Geometry.Point([lon, lat])\n",
        "    geometry = center.buffer(2560).bounds()\n",
        "\n",
        "    # Specify\n",
        "    period2019 = {'start': '2019-07-01', 'end': '2019-09-30'}\n",
        "    period2024 = {'start': '2024-07-01', 'end': '2024-09-30'}\n",
        "    cloud_thresh = 3\n",
        "    folder_name='UGACH'\n",
        "\n",
        "    # Function to create classified composite\n",
        "    def create_classified_composite(start_date, end_date):\n",
        "        dw = ee.ImageCollection('GOOGLE/DYNAMICWORLD/V1') \\\n",
        "            .filter(ee.Filter.date(start_date, end_date)) \\\n",
        "            .filter(ee.Filter.bounds(geometry))\n",
        "\n",
        "        dw_composite = dw.select('label').reduce(ee.Reducer.mode())\n",
        "\n",
        "        # Remap to custom classes:\n",
        "        # 0: water, 1: built, 2: bare, 3: sparse-vegetation, 4: trees, 5: crops, 6:others\n",
        "        return dw_composite.remap(\n",
        "            [0, 1, 2, 3, 4, 5, 6, 7, 8],      # source values\n",
        "            [0, 4, 3, 3, 5, 3, 1, 2, 6],    # destination values\n",
        "            6                               # other values\n",
        "        ).updateMask(ee.Image(1))\n",
        "\n",
        "    # Create composites for each period\n",
        "    composite2019 = create_classified_composite(period2019['start'], period2019['end'])\n",
        "    composite2024 = create_classified_composite(period2024['start'], period2024['end'])\n",
        "\n",
        "    # Define class names for reference (not used in export but useful for documentation)\n",
        "    class_names = {\n",
        "        0: 'water',\n",
        "        1: 'built',\n",
        "        2: 'bare',\n",
        "        3: 'sparse',\n",
        "        4: 'trees',\n",
        "        5: 'crops',\n",
        "        6: 'others'\n",
        "    }\n",
        "\n",
        "    # Load Sentinel-2 data for 2019 with hardcoded cloud threshold\n",
        "    sentinel2019 = ee.ImageCollection(\"COPERNICUS/S2_SR_HARMONIZED\") \\\n",
        "        .filterBounds(geometry) \\\n",
        "        .filterDate(period2019['start'], period2019['end']) \\\n",
        "        .filter(ee.Filter.lt('CLOUDY_PIXEL_PERCENTAGE', cloud_thresh)) \\\n",
        "        .median()\n",
        "\n",
        "    # Load Sentinel-2 data for 2024 with hardcoded cloud threshold\n",
        "    sentinel2024 = ee.ImageCollection(\"COPERNICUS/S2_SR_HARMONIZED\") \\\n",
        "        .filterBounds(geometry) \\\n",
        "        .filterDate(period2024['start'], period2024['end']) \\\n",
        "        .filter(ee.Filter.lt('CLOUDY_PIXEL_PERCENTAGE', cloud_thresh)) \\\n",
        "        .median()\n",
        "\n",
        "    # Create enhanced RGB composites\n",
        "    enhanced_rgb2019 = sentinel2019.select('B4', 'B3', 'B2').multiply(2.0)\n",
        "    enhanced_rgb2024 = sentinel2024.select('B4', 'B3', 'B2').multiply(2.0)\n",
        "\n",
        "    # Define visualization parameters for RGB\n",
        "    rgb_viz_params = {\n",
        "        'min': 0,\n",
        "        'max': 3000,\n",
        "        'bands': ['B4', 'B3', 'B2'],\n",
        "        'gamma' : 1\n",
        "    }\n",
        "\n",
        "    # Export 2019 Land Cover Classification\n",
        "    mask_task_2019 = ee.batch.Export.image.toDrive(\n",
        "        image=composite2019.clip(geometry).uint16(),\n",
        "        description=f'm_{filename}_2019',\n",
        "        region=geometry,\n",
        "        fileFormat='GEOTIFF',\n",
        "        crs='EPSG:3857',\n",
        "        dimensions='512x512',\n",
        "        folder=folder_name,\n",
        "        fileNamePrefix=f'm_{filename}_2019'\n",
        "    )\n",
        "\n",
        "    # Export 2024 Land Cover Classification\n",
        "    mask_task_2024 = ee.batch.Export.image.toDrive(\n",
        "        image=composite2024.clip(geometry).uint16(),\n",
        "        description=f'm_{filename}_2024',\n",
        "        region=geometry,\n",
        "        fileFormat='GEOTIFF',\n",
        "        crs='EPSG:3857',\n",
        "        dimensions='512x512',\n",
        "        folder=folder_name,\n",
        "        fileNamePrefix=f'm_{filename}_2024'\n",
        "    )\n",
        "\n",
        "    # Export 2019 Enhanced RGB\n",
        "    rgb_task_2019 = ee.batch.Export.image.toDrive(\n",
        "        image=enhanced_rgb2019.clip(geometry).visualize(**rgb_viz_params).uint16(),\n",
        "        description=f'{filename}_2019',\n",
        "        region=geometry,\n",
        "        fileFormat='GEOTIFF',\n",
        "        crs='EPSG:3857',\n",
        "        dimensions='512x512',\n",
        "        folder=folder_name,\n",
        "        fileNamePrefix=f'{filename}_2019'\n",
        "    )\n",
        "\n",
        "    # Export 2024 Enhanced RGB\n",
        "    rgb_task_2024 = ee.batch.Export.image.toDrive(\n",
        "        image=enhanced_rgb2024.clip(geometry).visualize(**rgb_viz_params).uint16(),\n",
        "        description=f'{filename}_2024',\n",
        "        region=geometry,\n",
        "        fileFormat='GEOTIFF',\n",
        "        crs='EPSG:3857',\n",
        "        dimensions='512x512',\n",
        "        folder=folder_name,\n",
        "        fileNamePrefix=f'{filename}_2024'\n",
        "    )\n",
        "\n",
        "    # Start the export tasks\n",
        "    mask_task_2019.start()\n",
        "    mask_task_2024.start()\n",
        "    rgb_task_2019.start()\n",
        "    rgb_task_2024.start()\n",
        "\n",
        "    print(f\"Export tasks have been started for {filename}.\")\n",
        "\n",
        "    # # Return tasks for reference\n",
        "    # return {\n",
        "    #     'mask_2019': mask_task_2019,\n",
        "    #     'mask_2024': mask_task_2024,\n",
        "    #     'rgb_2019': rgb_task_2019,\n",
        "    #     'rgb_2024': rgb_task_2024\n",
        "    # }\n",
        "\n"
      ]
    },
    {
      "cell_type": "markdown",
      "metadata": {
        "id": "Hkwzmep_MtPK"
      },
      "source": [
        "## RUN"
      ]
    },
    {
      "cell_type": "markdown",
      "metadata": {
        "id": "sf2y4oqbMvJA"
      },
      "source": [
        "### Import Data"
      ]
    },
    {
      "cell_type": "code",
      "execution_count": null,
      "metadata": {
        "id": "OGnN8KTryavm"
      },
      "outputs": [],
      "source": [
        "import io\n",
        "import pandas as pd\n",
        "data = pd.read_csv(io.StringIO('''\n",
        "Netherlands,Amsterdam,2019,2024,\"4.85965202286674,52.3659617416252\",52.36596174,4.859652023,\"4.85965202286674,52.4159617416252\",\"4.90965202286674,52.4159617416252\",\"4.90965202286674,52.3659617416252\",\"4.90965202286674,52.3159617416252\",\"4.85965202286674,52.3159617416252\",\"4.80965202286674,52.3159617416252\",\"4.80965202286674,52.3659617416252\",\"4.80965202286674,52.4159617416252\"\n",
        "'''), header=None)\n"
      ]
    },
    {
      "cell_type": "markdown",
      "metadata": {
        "id": "-35qlmaPMy84"
      },
      "source": [
        "### Run Process"
      ]
    },
    {
      "cell_type": "code",
      "execution_count": null,
      "metadata": {
        "colab": {
          "base_uri": "https://localhost:8080/"
        },
        "id": "f0sCcT_CMt5w",
        "outputId": "4aca0fe4-0fef-411f-90b6-3fba5096469e"
      },
      "outputs": [
        {
          "name": "stdout",
          "output_type": "stream",
          "text": [
            "Amsterdam Netherlands\n",
            "Netherlands_Amsterdam_C\n",
            "Export tasks have been started for Netherlands_Amsterdam_C.\n",
            "Netherlands_Amsterdam_N\n",
            "Export tasks have been started for Netherlands_Amsterdam_N.\n",
            "Netherlands_Amsterdam_NE\n",
            "Export tasks have been started for Netherlands_Amsterdam_NE.\n",
            "Netherlands_Amsterdam_E\n",
            "Export tasks have been started for Netherlands_Amsterdam_E.\n",
            "Netherlands_Amsterdam_SE\n",
            "Export tasks have been started for Netherlands_Amsterdam_SE.\n",
            "Netherlands_Amsterdam_S\n",
            "Export tasks have been started for Netherlands_Amsterdam_S.\n",
            "Netherlands_Amsterdam_SW\n",
            "Export tasks have been started for Netherlands_Amsterdam_SW.\n",
            "Netherlands_Amsterdam_W\n",
            "Export tasks have been started for Netherlands_Amsterdam_W.\n",
            "Netherlands_Amsterdam_NW\n",
            "Export tasks have been started for Netherlands_Amsterdam_NW.\n",
            "\n",
            "All tasks have been started.\n"
          ]
        }
      ],
      "source": [
        "import os\n",
        "\n",
        "coord_list = [4, 7, 8, 9, 10, 11, 12, 13, 14]\n",
        "coord_name = ['C', 'N', 'NE', 'E', 'SE', 'S', 'SW', 'W', 'NW']\n",
        "ncities = data.shape[0]\n",
        "\n",
        "# Ensure the error log file exists\n",
        "if not os.path.exists(\"error_log.txt\"):\n",
        "    open(\"error_log.txt\", \"w\").close()\n",
        "\n",
        "error_log = open(\"error_log.txt\", \"a\")\n",
        "\n",
        "# Process each city\n",
        "for j in range(ncities):\n",
        "    cityData = data.iloc[j]\n",
        "    city = cityData[1]\n",
        "    state = cityData[0]\n",
        "    print(city, state)\n",
        "\n",
        "    for i in range(9):\n",
        "        try:\n",
        "            coord = cityData.iloc[coord_list[i]].split(',')\n",
        "            filename = f'{state}_{city}_{coord_name[i]}'\n",
        "            print(filename)\n",
        "\n",
        "            lon = float(coord[0])\n",
        "            lat = float(coord[1])\n",
        "            export_change_detection_data(lon, lat, city, state, filename)\n",
        "\n",
        "        except Exception as e:\n",
        "            error_message = f\"Error processing {state}, {city}, {coord_name[i]}: {e}\\n\"\n",
        "            print(error_message.strip())\n",
        "            error_log.write(f\"{filename}\\n\")\n",
        "    print()\n",
        "\n",
        "error_log.close()\n",
        "print(\"All tasks have been started.\")\n"
      ]
    }
  ],
  "metadata": {
    "colab": {
      "collapsed_sections": [
        "4oN_sxVnLyos"
      ],
      "provenance": []
    },
    "kernelspec": {
      "display_name": "Python 3",
      "name": "python3"
    }
  },
  "nbformat": 4,
  "nbformat_minor": 0
}
